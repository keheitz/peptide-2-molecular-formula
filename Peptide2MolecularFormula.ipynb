{
 "metadata": {
  "name": "",
  "signature": "sha256:97bcf26ddb0800a497ae9074272c34a5c6592d35d7515a6d02824cb05dc306ad"
 },
 "nbformat": 3,
 "nbformat_minor": 0,
 "worksheets": [
  {
   "cells": [
    {
     "cell_type": "heading",
     "level": 1,
     "metadata": {},
     "source": [
      "Peptide to Molecular Formula Converter"
     ]
    },
    {
     "cell_type": "markdown",
     "metadata": {},
     "source": [
      "This notebook maps peptide (amino acid) sequences to their matching molecular formula, and is intended to help increase mass spectrometer accuracy in identifying and extracting predicted peptide fragments."
     ]
    },
    {
     "cell_type": "code",
     "collapsed": false,
     "input": [
      "import numpy as np\n",
      "import pandas as pd\n",
      "import csv\n",
      "import re\n",
      "import os\n",
      "import itertools"
     ],
     "language": "python",
     "metadata": {},
     "outputs": [],
     "prompt_number": 1
    },
    {
     "cell_type": "code",
     "collapsed": false,
     "input": [
      "# This is the file that maps letters in a sequence to a molecular formula\n",
      "formulaFile = 'amino-acid-chemical-formula.csv'\n",
      "\n",
      "#folder containing all files with values that need to be mapped\n",
      "directory = 'InputFiles'\n",
      "\n",
      "#folder containing output files after processing\n",
      "output = 'OutputFiles'\n",
      "\n",
      "#Read the key file into a dataframe\n",
      "formulaDF = pd.read_csv(formulaFile)"
     ],
     "language": "python",
     "metadata": {},
     "outputs": [],
     "prompt_number": 2
    },
    {
     "cell_type": "code",
     "collapsed": false,
     "input": [
      "#For each letter, we need an array output that will show the count of each element\n",
      "def convertFormula(formula):\n",
      "    elementCounts = []\n",
      "    for element in re.findall('[A-Z][^A-Z]*', formula):\n",
      "        if len(element) > 1:\n",
      "            atom = element[0]\n",
      "            count = int(element[1:])\n",
      "            elementCounts.append([atom, count])\n",
      "        else:\n",
      "            elementCounts.append([element, 1]) #no number listed, there is only 1 of this atom\n",
      "    return elementCounts"
     ],
     "language": "python",
     "metadata": {},
     "outputs": [],
     "prompt_number": 3
    },
    {
     "cell_type": "code",
     "collapsed": false,
     "input": [
      "#Use our convert formula method to get a dictionary mapping each letter to an array elements and counts\n",
      "formulaDict = formulaDF.set_index('Letter')['Molecular formula'].to_dict()\n",
      "dictConverted = {k: convertFormula(v) for k, v in formulaDict.items()}"
     ],
     "language": "python",
     "metadata": {},
     "outputs": [],
     "prompt_number": 4
    },
    {
     "cell_type": "code",
     "collapsed": false,
     "input": [
      "#input peptide, and get formatted molecular formula name back as a string\n",
      "def getMolecularFormula(peptideSeq):\n",
      "    atomCountsArray = np.array(dictConverted.get(peptideSeq[0]))\n",
      "    letterCount = 0\n",
      "    for letter in peptideSeq:\n",
      "        if letterCount > 0:\n",
      "            atomCountsArray = np.concatenate((atomCountsArray, np.array(dictConverted.get(letter))), axis=0)\n",
      "            #subtract H20 molecule for each peptide added, because science\n",
      "            atomCountsArray = np.concatenate((atomCountsArray, np.array([['H',-2]])), axis=0)\n",
      "            atomCountsArray = np.concatenate((atomCountsArray, np.array([['O',-1]])), axis=0)\n",
      "        letterCount += 1\n",
      "    return formatFormula(mergeElementCounts(atomCountsArray.tolist(), letterCount))"
     ],
     "language": "python",
     "metadata": {},
     "outputs": [],
     "prompt_number": 5
    },
    {
     "cell_type": "code",
     "collapsed": false,
     "input": [
      "def extract_key(v):\n",
      "    return v[0]"
     ],
     "language": "python",
     "metadata": {},
     "outputs": [],
     "prompt_number": 6
    },
    {
     "cell_type": "code",
     "collapsed": false,
     "input": [
      "#concate all of our arrays, grouped by the same element so we get overall sum for each\n",
      "def mergeElementCounts(atomCountsArray, addCount):\n",
      "    # itertools.groupby needs data to be sorted first\n",
      "    data = sorted(atomCountsArray, key=extract_key)\n",
      "    return [[k,sum([int(x[1]) for x in g])] for k, g in itertools.groupby(data, extract_key)]"
     ],
     "language": "python",
     "metadata": {},
     "outputs": [],
     "prompt_number": 7
    },
    {
     "cell_type": "code",
     "collapsed": false,
     "input": [
      "#returns string representation of molecular formula\n",
      "def formatFormula(elementSums):\n",
      "    return ''.join(str(item) for x in elementSums for item in x)"
     ],
     "language": "python",
     "metadata": {},
     "outputs": [],
     "prompt_number": 8
    },
    {
     "cell_type": "code",
     "collapsed": false,
     "input": [
      "#iterate through all of the input files, and create an output file for each\n",
      "if not os.path.exists(output): os.makedirs(output)\n",
      "for filename in os.listdir(directory):\n",
      "    current = os.path.join(directory, filename)\n",
      "    if os.path.isfile(current):\n",
      "        peptides = pd.read_csv(current)\n",
      "        #the files my husband sent already have a formula column - populate it\n",
      "        peptides['Formula'] = peptides.Name.apply(lambda x: getMolecularFormula(x)) \n",
      "        new = os.path.join(output, filename.rsplit( \".\", 1 )[ 0 ]  + '_output.csv') \n",
      "        peptides.to_csv(new)"
     ],
     "language": "python",
     "metadata": {},
     "outputs": [],
     "prompt_number": 9
    }
   ],
   "metadata": {}
  }
 ]
}