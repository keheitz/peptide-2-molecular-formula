{
 "metadata": {
  "name": "",
  "signature": "sha256:39cc5649eab7d876f1baa411ff800c3cb03c14ce203b5506bbd37f6d4d584e6f"
 },
 "nbformat": 3,
 "nbformat_minor": 0,
 "worksheets": [
  {
   "cells": [
    {
     "cell_type": "heading",
     "level": 1,
     "metadata": {},
     "source": [
      "Peptide to Molecular Formula Converter"
     ]
    },
    {
     "cell_type": "markdown",
     "metadata": {},
     "source": [
      "This notebook maps peptide (amino acid) sequences to their matching molecular formula, and is intended to help increase mass spectrometer accuracy in identifying and extracting predicted peptide fragments."
     ]
    },
    {
     "cell_type": "code",
     "collapsed": false,
     "input": [],
     "language": "python",
     "metadata": {},
     "outputs": []
    }
   ],
   "metadata": {}
  }
 ]
}